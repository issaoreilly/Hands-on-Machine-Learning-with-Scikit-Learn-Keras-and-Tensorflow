{
 "cells": [
  {
   "cell_type": "markdown",
   "id": "4d300a3d",
   "metadata": {},
   "source": [
    "### Notebook setup"
   ]
  },
  {
   "cell_type": "code",
   "execution_count": 1,
   "id": "fcd07f0c",
   "metadata": {},
   "outputs": [],
   "source": [
    "import numpy as np\n",
    "import plotly.offline as pyo\n",
    "import plotly.graph_objs as go\n",
    "from plotly import tools"
   ]
  },
  {
   "cell_type": "markdown",
   "id": "47b56916-c69a-4ca9-9ea3-809747c340e2",
   "metadata": {},
   "source": [
    "# Look at the Big Picture"
   ]
  },
  {
   "cell_type": "markdown",
   "id": "ef5385f1-25a0-4b3e-8f54-01ac0de93eb0",
   "metadata": {},
   "source": [
    "## Frame the Problem"
   ]
  },
  {
   "cell_type": "markdown",
   "id": "0e83b3fa-2d1d-4253-838c-e1b25bff9315",
   "metadata": {},
   "source": [
    "<span style=\"font-size:14pt; color:black; font-family:Garamond\">\n",
    "\n",
    "The first question to ask your boss is what exactly the business objective is. Building a model is probably not the end goal.\n",
    "</span>"
   ]
  },
  {
   "cell_type": "markdown",
   "id": "17f87e6a-1e4b-412c-a50b-d23e76094078",
   "metadata": {},
   "source": [
    "## Pipelines"
   ]
  },
  {
   "cell_type": "markdown",
   "id": "f379a724-2d10-4c02-b118-3fcfdf35124e",
   "metadata": {},
   "source": [
    "<span style=\"font-size:14pt; color:black; font-family:Garamond\">\n",
    "\n",
    "A sequence of data processing *components* is called a data *pipeline*. Pipelines are very common in machine learning systems, since there is a lot of data to manipulate and many data transformations to apply.\n",
    "    \n",
    "Components typically run asynchronously. Each component pulls in a large of data, processes it, and spits out the result in another data store, and then some time later the next component in the pipeline pulls this data and spits out its own output, and so on. Each component is fairly self-contained: the interface between components is simply the data store. This makes the system quite simple to grasp (with the help of a data flow graph), and different teams can focus on different components. Moreoever, if a component breaks down, the downstream components can often continue to run normally (at least for a while) by using the last output from the broken component. This makes the architecture quite robust. On the other hand, a broken component can go unnoticed for some time if proper monitoring is not implemented. The data gets stale and the overall system's performance drops.\n",
    "</span>"
   ]
  },
  {
   "cell_type": "markdown",
   "id": "171ee444-fee0-4f3d-a481-854854d14217",
   "metadata": {},
   "source": [
    "# Terms:"
   ]
  },
  {
   "cell_type": "markdown",
   "id": "dbd77752-3f30-448e-ab77-d5a74f6239e6",
   "metadata": {},
   "source": [
    "## Multiple Regression:"
   ]
  },
  {
   "cell_type": "markdown",
   "id": "90bf6432-2f1e-47c8-ba21-3f03d7a7ff16",
   "metadata": {},
   "source": [
    "<span style=\"font-size:14pt; color:black; font-family:Garamond\">\n",
    "\n",
    "When a model uses multiple features to make a prediction , this is known as multiple regression. \n",
    "</span>"
   ]
  },
  {
   "cell_type": "markdown",
   "id": "bec48f91-589b-4320-ba03-88ec6212e55f",
   "metadata": {},
   "source": [
    "## Univariate Regression:"
   ]
  },
  {
   "cell_type": "markdown",
   "id": "b2c81c13-97c5-4aa7-ab85-34a039ce3f12",
   "metadata": {},
   "source": [
    "<span style=\"font-size:14pt; color:black; font-family:Garamond\">\n",
    "\n",
    "When a model predits a single value for each input, this problem is known as univariate regression.\n",
    "</span>"
   ]
  },
  {
   "cell_type": "markdown",
   "id": "5f745c38-4e20-48a4-8aca-1fc9f4d9adda",
   "metadata": {},
   "source": [
    "## Multivariate Regression:"
   ]
  },
  {
   "cell_type": "markdown",
   "id": "6c206406-c45e-44ac-ac21-7c0992515d01",
   "metadata": {},
   "source": [
    "<span style=\"font-size:14pt; color:black; font-family:Garamond\">\n",
    "\n",
    "Predicting multiple outputs per input is known as multivariate regression problem.\n",
    "</span>"
   ]
  },
  {
   "cell_type": "markdown",
   "id": "fd810673-8954-43c6-a3b8-a275c3b077b8",
   "metadata": {},
   "source": [
    "## When to use batch learning:"
   ]
  },
  {
   "cell_type": "markdown",
   "id": "91069998-1468-4585-819d-3da09b957bb0",
   "metadata": {},
   "source": [
    "<span style=\"font-size:14pt; color:black; font-family:Garamond\">\n",
    "\n",
    "Whenever the data and the model can fit into the main memory, then we can apply batch learning. If the data were huge, you could either split your batch learning work across multiple servers (using the MapReduce technique) or use an online learning technique.\n",
    "</span>"
   ]
  },
  {
   "cell_type": "markdown",
   "id": "0af36557-8504-4781-9293-90393093be24",
   "metadata": {},
   "source": [
    "# Select a Performance Measure"
   ]
  },
  {
   "cell_type": "markdown",
   "id": "6c9f25b6-f676-4f32-a1f6-374d6b8b6ac0",
   "metadata": {},
   "source": [
    "## Root Mean Square Error (RMSE)"
   ]
  },
  {
   "cell_type": "markdown",
   "id": "6b0079d8-3c43-4bfd-95f3-9360827e9b87",
   "metadata": {},
   "source": [
    "<span style=\"font-size:14pt; color:black; font-family:Garamond\">\n",
    "\n",
    "A typical performance measure for regression problems is the Root Mean Square Error (RMSE). It gives an idea of how much error the system typically makes in its predictions, with a higher weight for large errors. Equation 2-1 shows the mathematical formula to compute the RMSE.\n",
    "    \n",
    "*Equaltion 2-1. Root Mean Square Error (RMSE)*\n",
    "\n",
    "$$\n",
    "RMSE(X,h) = \\sqrt{\\frac{1}{m}\\sum_{i=1}^{m}\\bigl(h(x^{(i)}) - y^{(i)}\\bigr)^2}\n",
    "$$\n",
    "    \n",
    "\n",
    "</span>"
   ]
  },
  {
   "cell_type": "markdown",
   "id": "29b13a12-c105-43da-8732-fb942b1f730c",
   "metadata": {},
   "source": [
    "### Notations:"
   ]
  },
  {
   "cell_type": "markdown",
   "id": "55376578-ad0a-4c32-8086-1e7e31c49090",
   "metadata": {},
   "source": [
    "<span style=\"font-size:14pt; color:black; font-family:Garamond\">\n",
    "\n",
    "$m$ is the number of instances in the dataset you are measuring the RMSE on.<br>\n",
    "$x^{(i)}$ is a vector of all the feature values (execluding the label) of the $i^{th}$ instance.<br>\n",
    "$y^{(i)}$ is the label (the desired output value for that instance).\n",
    "</span>"
   ]
  },
  {
   "cell_type": "markdown",
   "id": "bc089d9f-e58d-4dea-8ed4-837fa71c9775",
   "metadata": {},
   "source": [
    "## Mean Absolute Error"
   ]
  },
  {
   "cell_type": "markdown",
   "id": "c3da1c32-c3f2-4560-9cb5-ec405ad1063c",
   "metadata": {},
   "source": [
    "<span style=\"font-size:14pt; color:black; font-family:Garamond\">\n",
    "\n",
    "Even though the RMSE is generally the preferred performance measure for regression tasks, in some context you may prefer to use another function. For instance, if there are many outliers instances in the dataset, in this case, we may consider using *mean absolute error* (MAE, also called the ***average absolute deviation***; or ***Least Absolute Shrinkage and Selection Operator (LASSO)***; see Equation 2-2).\n",
    "</span>"
   ]
  },
  {
   "cell_type": "markdown",
   "id": "318bb57d-1b2a-4a9c-b10a-db930ee0df85",
   "metadata": {},
   "source": [
    "*Equaltion 2-2. Mean Absolute Error (MAE)*\n",
    "\n",
    "$$\n",
    "MAE(X,h) = \\frac{1}{m}\\sum_{i=1}^{m}\\left\\lvert h(x^{(i)}) - y^{(i)}\\right\\rvert\n",
    "$$\n"
   ]
  },
  {
   "cell_type": "markdown",
   "id": "74805865-9720-4780-b1b4-c8b1e44063ed",
   "metadata": {},
   "source": [
    "<span style=\"font-size:14pt; color:black; font-family:Garamond\">\n",
    "\n",
    "Both the RMSE and the MAE are ways to measure the distance between two vectors: the vector of predictions and the vector of target values. Various distance measure, or norms, are possible. Generally speaking, calculating the size or length of a vector is often required either directly or as part of a broader vector or vector-matrix operation.\n",
    "    \n",
    "Generally speaking the $l_1$, $l_2$ or $l_k$ norms are commonly used for assigning a magnitude to a vector. for a vector $x$ having $N$ components, the $l_1$ just adds the components. Since we would like our magnitude to always be positive, we take the absolute value of the components.\n",
    "\n",
    "- Computing the root of a sum of squares (RMSE) corresponds to the Euclidean norm: it is the notion of distance you are familiar with. It is also called the $l_{2}$ *norm* noted: $\\lVert . \\rVert_{2}$; or Ridge Operator.\n",
    "- Computing the sum of absolutes (MAE) corresponds to the ℓ1 norm, noted $\\lVert . \\rVert_{1}$. It is sometimes called the Manhattan norm because it measures the distance between two points in a city if you can only travel along orthogonal city blocks.\n",
    "- More generally, the $l_{k}$ norm of a vector $v$ containing $n$ elements is defined as $\\lVert v \\rVert_{k} = \\bigl( \\left\\lvert v_{0} \\right\\rvert^{k} + \\left\\lvert v_{1} \\right\\rvert^{k} + \\cdots + \\left\\lvert v_{n} \\right\\rvert^{k} \\bigr)^{\\frac{1}{k}}$. $l_{0}$ just gives the number of non-zero elements in the vector, and $l_{\\infty}$ gives the maximum absolute value in the vector.\n",
    "- The higher the norm index, the more it focuses on large values and neglect small ones. This is why the RMSE is more sensitive to outliers than the MAE. But when outliers are exponentially rare (like in a bell-shaped curve), the RMSE performs very well and is generally preferred.\n",
    "</span>"
   ]
  },
  {
   "cell_type": "code",
   "execution_count": 13,
   "id": "b505c5e7",
   "metadata": {},
   "outputs": [],
   "source": [
    "num_points = 1000\n",
    "num_outliers = 50\n",
    "\n",
    "x = np.linspace(0, 10, num_points)\n",
    "\n",
    "# places where to add outliers:\n",
    "outlier_locs = np.random.choice(len(x), size=num_outliers, replace=False)\n",
    "outlier_vals = np.random.normal(loc=1, scale=5, size=num_outliers)\n",
    "\n",
    "y_true = 2 * x\n",
    "y_pred = 2 * x + np.random.normal(size=num_points)\n",
    "y_pred[outlier_locs] += outlier_vals\n",
    "\n",
    "y_diff = y_true - y_pred"
   ]
  },
  {
   "cell_type": "code",
   "execution_count": 14,
   "id": "f17ac0eb",
   "metadata": {},
   "outputs": [],
   "source": [
    "losses_given_lk = []\n",
    "losses = []\n",
    "norms = np.linspace(1, 5, 50)\n",
    "\n",
    "for k in norms:\n",
    "    losses_given_lk.append(np.linalg.norm(y_diff, k))\n",
    "    losses.append(my_norm(y_diff, k))"
   ]
  },
  {
   "cell_type": "code",
   "execution_count": 16,
   "id": "1dd6501f",
   "metadata": {},
   "outputs": [
    {
     "name": "stderr",
     "output_type": "stream",
     "text": [
      "C:\\Users\\iayou\\anaconda3\\envs\\data_science_env\\lib\\site-packages\\plotly\\tools.py:460: DeprecationWarning:\n",
      "\n",
      "plotly.tools.make_subplots is deprecated, please use plotly.subplots.make_subplots instead\n",
      "\n"
     ]
    },
    {
     "data": {
      "text/plain": [
       "'lk_norms.html'"
      ]
     },
     "execution_count": 16,
     "metadata": {},
     "output_type": "execute_result"
    }
   ],
   "source": [
    "trace_1 = go.Scatter(x=norms, \n",
    "                     y=losses_given_lk, \n",
    "                     mode=\"markers+lines\", \n",
    "                     name=\"lk_norm\")\n",
    "\n",
    "trace_2 = go.Scatter(x=norms, \n",
    "                     y=losses, \n",
    "                     mode=\"markers+lines\", \n",
    "                     name=\"my_lk_norm\")\n",
    "\n",
    "trace_3 = go.Scatter(x=x, \n",
    "                     y=y_true, \n",
    "                     mode=\"lines\", \n",
    "                     name=\"y_true\")\n",
    "\n",
    "trace_4 = go.Scatter(x=x, \n",
    "                     y=y_pred, \n",
    "                     mode=\"markers\", \n",
    "                     name=\"y_true + noise\")\n",
    "\n",
    "fig = tools.make_subplots(rows=1, cols=4, subplot_titles=(\"lk_norms\", \"my_lk_norms\", \"y_true\", \"y_true + noise\"))\n",
    "fig.append_trace(trace_1, 1, 1)\n",
    "fig.append_trace(trace_2, 1, 2)\n",
    "fig.append_trace(trace_3, 1, 3)\n",
    "fig.append_trace(trace_4, 1, 4)\n",
    "\n",
    "pyo.plot(fig, filename=\"lk_norms.html\")"
   ]
  },
  {
   "cell_type": "markdown",
   "id": "3a982716",
   "metadata": {},
   "source": [
    "## Example 2"
   ]
  },
  {
   "cell_type": "code",
   "execution_count": 34,
   "id": "a4b1a68a",
   "metadata": {},
   "outputs": [
    {
     "data": {
      "text/plain": [
       "array([-0.51731879,  1.43852722,  0.5841042 ,  1.20600714,  2.01543641,\n",
       "        1.3420095 , -0.25783117, -1.12253678,  0.66446307,  0.41302383])"
      ]
     },
     "execution_count": 34,
     "metadata": {},
     "output_type": "execute_result"
    }
   ],
   "source": [
    "array = np.random.randn(10)\n",
    "# array = np.array([1, 1, 1, 4, 1, 1, 1, 1])\n",
    "# array = np.array([1, 1, 3])\n",
    "array"
   ]
  },
  {
   "cell_type": "code",
   "execution_count": 42,
   "id": "e6099ae2",
   "metadata": {},
   "outputs": [],
   "source": [
    "def my_norm(array, k):\n",
    "    return np.mean(np.abs(array) ** k)**(1/k)"
   ]
  },
  {
   "cell_type": "code",
   "execution_count": 40,
   "id": "13a05b3f",
   "metadata": {},
   "outputs": [
    {
     "data": {
      "text/plain": [
       "(9.561258110585216, 3.4545982749318846, 2.5946495606046547, 2.027258231324604)"
      ]
     },
     "execution_count": 40,
     "metadata": {},
     "output_type": "execute_result"
    }
   ],
   "source": [
    "np.linalg.norm(array, 1), np.linalg.norm(array, 2), np.linalg.norm(array, 3), np.linalg.norm(array, 10)"
   ]
  },
  {
   "cell_type": "code",
   "execution_count": 43,
   "id": "2ff7960c",
   "metadata": {},
   "outputs": [
    {
     "data": {
      "text/plain": [
       "(0.9561258110585216, 1.092439894967332, 1.2043296427640868, 1.610308452218342)"
      ]
     },
     "execution_count": 43,
     "metadata": {},
     "output_type": "execute_result"
    }
   ],
   "source": [
    "my_norm(array, 1), my_norm(array, 2), my_norm(array, 3), my_norm(array, 10)"
   ]
  },
  {
   "cell_type": "code",
   "execution_count": 33,
   "id": "5e3f6c46",
   "metadata": {},
   "outputs": [
    {
     "data": {
      "text/plain": [
       "1.5874010519681994"
      ]
     },
     "execution_count": 33,
     "metadata": {},
     "output_type": "execute_result"
    }
   ],
   "source": [
    "2**(2/3)"
   ]
  }
 ],
 "metadata": {
  "kernelspec": {
   "display_name": "Python 3 (ipykernel)",
   "language": "python",
   "name": "python3"
  },
  "language_info": {
   "codemirror_mode": {
    "name": "ipython",
    "version": 3
   },
   "file_extension": ".py",
   "mimetype": "text/x-python",
   "name": "python",
   "nbconvert_exporter": "python",
   "pygments_lexer": "ipython3",
   "version": "3.10.4"
  }
 },
 "nbformat": 4,
 "nbformat_minor": 5
}
